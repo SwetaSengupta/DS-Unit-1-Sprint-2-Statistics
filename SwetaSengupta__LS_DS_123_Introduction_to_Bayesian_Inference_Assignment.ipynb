{
  "nbformat": 4,
  "nbformat_minor": 0,
  "metadata": {
    "colab": {
      "name": "SwetaSengupta_ LS_DS_123_Introduction_to_Bayesian_Inference_Assignment.ipynb",
      "provenance": [],
      "include_colab_link": true
    },
    "kernelspec": {
      "name": "python3",
      "display_name": "Python 3"
    }
  },
  "cells": [
    {
      "cell_type": "markdown",
      "metadata": {
        "id": "view-in-github",
        "colab_type": "text"
      },
      "source": [
        "<a href=\"https://colab.research.google.com/github/ssgupta201301/DS-Unit-1-Sprint-2-Statistics/blob/master/SwetaSengupta__LS_DS_123_Introduction_to_Bayesian_Inference_Assignment.ipynb\" target=\"_parent\"><img src=\"https://colab.research.google.com/assets/colab-badge.svg\" alt=\"Open In Colab\"/></a>"
      ]
    },
    {
      "cell_type": "markdown",
      "metadata": {
        "id": "H7OLbevlbd_Z",
        "colab_type": "text"
      },
      "source": [
        "# Lambda School Data Science Module 123\n",
        "\n",
        "## Introduction to Bayesian Inference\n",
        "\n",
        "\n"
      ]
    },
    {
      "cell_type": "markdown",
      "metadata": {
        "id": "P-DzzRk5bf0z",
        "colab_type": "text"
      },
      "source": [
        "## Assignment - Code it up!\n",
        "\n",
        "We used pure math to apply Bayes Theorem to drug tests. Now write Python code to reproduce the results! This is purposefully open ended - you'll have to think about how you should represent probabilities and events. You can and should look things up.\n",
        "\n",
        "Specific goals/targets:\n",
        "\n",
        "### 1) Write a function \n",
        "\n",
        "`def prob_drunk_given_positive(prob_drunk_prior, false_positive_rate):` \n",
        "\n",
        "You should only truly need these two values in order to apply Bayes Theorem. In this example, imagine that individuals are taking a breathalyzer test with an 8% false positive rate, a 100% true positive rate, and that our prior belief about drunk driving in the population is 1/1000. \n",
        " - What is the probability that a person is drunk after one positive breathalyzer test?\n",
        " - What is the probability that a person is drunk after two positive breathalyzer tests?\n",
        " - How many positive breathalyzer tests are needed in order to have a probability that's greater than 95% that a person is drunk beyond the legal limit?\n",
        "\n",
        "### 2) Explore `scipy.stats.bayes_mvs`  \n",
        "Read its documentation, and experiment with it on data you've tested in other ways earlier this week.\n",
        " - Create a visualization comparing the results of a Bayesian approach to a traditional/frequentist approach. (with a large sample size they should look close to identical, however, take this opportunity to practice visualizing condfidence intervals in general. The following are some potential ways that you could visualize confidence intervals on your graph:\n",
        "  - [Matplotlib Error Bars](https://matplotlib.org/3.1.1/api/_as_gen/matplotlib.pyplot.errorbar.html)\n",
        "  - [Seaborn barplot with error bars](https://seaborn.pydata.org/generated/seaborn.barplot.html)\n",
        "  - [Vertical ines to show bounds of confidence interval](https://www.simplypsychology.org/confidence-interval.jpg)\n",
        "  - [Confidence Intervals on Box Plots](https://matplotlib.org/3.1.1/api/_as_gen/matplotlib.axes.Axes.boxplot.html)\n",
        "\n",
        "### 3) In your own words, summarize the difference between Bayesian and Frequentist statistics\n",
        "\n",
        "If you're unsure where to start, check out [this blog post of Bayes theorem with Python](https://dataconomy.com/2015/02/introduction-to-bayes-theorem-with-python/).\n",
        "\n"
      ]
    },
    {
      "cell_type": "code",
      "metadata": {
        "id": "xpVhZyUnbf7o",
        "colab_type": "code",
        "colab": {}
      },
      "source": [
        "# TODO - code!\n",
        "#right code for assignment-def prob_drunk_given_positive\n",
        "#def prob_drunk _given_positive(prob_drunk_prior,false_positive_rate, true_positive_rate)"
      ],
      "execution_count": 0,
      "outputs": []
    },
    {
      "cell_type": "code",
      "metadata": {
        "id": "tHztqYOUxXdT",
        "colab_type": "code",
        "outputId": "5c831e51-0f6e-4295-bfe0-7a939e9f77dd",
        "colab": {
          "base_uri": "https://localhost:8080/",
          "height": 34
        }
      },
      "source": [
        "P_user = 1/1000 # prior belief\n",
        "P_non_user = 1- P_user # complement of the prior belief\n",
        "P_pos_given_user = 1 # this is the true positive rate\n",
        "P_pos_given_non_user = .08 # this is the false positive rate\n",
        "\n",
        "# First iteration using Bayes Rule\n",
        "numerator = P_pos_given_user * P_user\n",
        "marginal = (P_pos_given_user * P_user) + (P_pos_given_non_user * P_non_user)\n",
        "posterior_probability = numerator/marginal\n",
        "print(posterior_probability)\n"
      ],
      "execution_count": 0,
      "outputs": [
        {
          "output_type": "stream",
          "text": [
            "0.012357884330202669\n"
          ],
          "name": "stdout"
        }
      ]
    },
    {
      "cell_type": "code",
      "metadata": {
        "id": "LKFg5xYY2l-V",
        "colab_type": "code",
        "outputId": "3a2e81f3-9d18-4e46-99ab-a432b17fcbc6",
        "colab": {
          "base_uri": "https://localhost:8080/",
          "height": 34
        }
      },
      "source": [
        "# We have the same person take the drunk test again, and they test positive again\n",
        "# Now what is the likelihood that they are a drunk\n",
        "?\n",
        "# The posterior probability from the first test becomes our prior for the second iteration.\n",
        "\n",
        "P_user = posterior_probability # save posterior from first iteration as a new prior\n",
        "P_non_user = 1 - P_user # calculate the complement of that prior via the law of total probability\n",
        "\n",
        "# apply Bayes' theorem\n",
        "numerator = P_pos_given_user*P_user\n",
        "marginal = (P_pos_given_user*P_user) + (P_pos_given_non_user*P_non_user)\n",
        "posterior_probability = numerator/marginal\n",
        "print(posterior_probability)"
      ],
      "execution_count": 0,
      "outputs": [
        {
          "output_type": "stream",
          "text": [
            "0.13525210993291495\n"
          ],
          "name": "stdout"
        }
      ]
    },
    {
      "cell_type": "code",
      "metadata": {
        "id": "MJ2Z0plB2l2x",
        "colab_type": "code",
        "outputId": "fa94017d-80e5-4b4d-a5da-537f9d34dfb5",
        "colab": {
          "base_uri": "https://localhost:8080/",
          "height": 34
        }
      },
      "source": [
        "# Now the third test\n",
        "P_user = posterior_probability # save posterior from first iteration as a new prior\n",
        "P_non_user = 1 - P_user # calculate the complement of that prior via the law of total probability\n",
        "\n",
        "# apply Bayes' theorem\n",
        "numerator = P_pos_given_user*P_user\n",
        "marginal = (P_pos_given_user*P_user) + (P_pos_given_non_user*P_non_user)\n",
        "posterior_probability = numerator/marginal\n",
        "print(posterior_probability)"
      ],
      "execution_count": 0,
      "outputs": [
        {
          "output_type": "stream",
          "text": [
            "0.6615996951348605\n"
          ],
          "name": "stdout"
        }
      ]
    },
    {
      "cell_type": "code",
      "metadata": {
        "id": "hLo-zeZh2lge",
        "colab_type": "code",
        "outputId": "2448f569-0c7b-4980-af64-04de15bc90b9",
        "colab": {
          "base_uri": "https://localhost:8080/",
          "height": 34
        }
      },
      "source": [
        "# Fourth test\n",
        "P_user = posterior_probability # save posterior from first iteration as a new prior\n",
        "P_non_user = 1 - P_user # calculate the complement of that prior via the law of total probability\n",
        "\n",
        "# apply Bayes' theorem\n",
        "numerator = P_pos_given_user*P_user\n",
        "marginal = (P_pos_given_user*P_user) + (P_pos_given_non_user*P_non_user)\n",
        "posterior_probability = numerator/marginal\n",
        "print(posterior_probability)"
      ],
      "execution_count": 0,
      "outputs": [
        {
          "output_type": "stream",
          "text": [
            "0.9606895076105054\n"
          ],
          "name": "stdout"
        }
      ]
    },
    {
      "cell_type": "code",
      "metadata": {
        "id": "iaZ4eKDi4065",
        "colab_type": "code",
        "colab": {}
      },
      "source": [
        "# Writing a function to calculate Bayers Rule\n",
        "def prob_drunk_given_positive(prob_drunk_prior,false_positive_rate, true_positive_rate, number_of_tests):\n",
        "\n",
        "    posterior_probability=prob_drunk_prior\n",
        "    for test in range(0, number_of_tests):\n",
        "        P_user = posterior_probability # prior belief\n",
        "        P_non_user = 1 - P_user  # complement of the prior belief\n",
        "        P_pos_given_user = false_positive_rate # this is the true positive rate\n",
        "        P_pos_given_non_user = true_positive_rate # this is the false positive rate\n",
        "        posterior_probability = (P_pos_given_user*P_user)/((P_pos_given_user*P_user) + (P_pos_given_non_user*P_non_user))\n",
        "    return posterior_probability"
      ],
      "execution_count": 0,
      "outputs": []
    },
    {
      "cell_type": "code",
      "metadata": {
        "id": "7k1nPn605tb6",
        "colab_type": "code",
        "outputId": "d81f27a4-7dfc-4983-b627-5c9c97ffba1d",
        "colab": {
          "base_uri": "https://localhost:8080/",
          "height": 34
        }
      },
      "source": [
        "# checking the function\n",
        "prob_drunk_given_positive(1/1000,1,.08,4)"
      ],
      "execution_count": 0,
      "outputs": [
        {
          "output_type": "execute_result",
          "data": {
            "text/plain": [
              "0.9606895076105054"
            ]
          },
          "metadata": {
            "tags": []
          },
          "execution_count": 16
        }
      ]
    },
    {
      "cell_type": "markdown",
      "metadata": {
        "id": "SWpp6ElMnu3e",
        "colab_type": "text"
      },
      "source": [
        "The difference between Bayesian and Frequentist statistics-\n",
        " \n",
        " From what I have understood, simply put if I have no prior knowledge that I want to consider in the analysis, then both the approaches are similar. \n",
        " \n",
        " So as a Bayesian statistician, you use your prior knowledge from the previous experiments and try to incorporate this information into your current data. As a Frequentist statistician, you are using only data from your current experiment. \n",
        " \n",
        " Moreover, when formulating any conclusions, i.e. formulating  statistical inference, frequentist methods assume that you repeat your experiment number of times."
      ]
    },
    {
      "cell_type": "markdown",
      "metadata": {
        "id": "uWgWjp3PQ3Sq",
        "colab_type": "text"
      },
      "source": [
        "## Resources"
      ]
    },
    {
      "cell_type": "markdown",
      "metadata": {
        "id": "QRgHqmYIQ9qn",
        "colab_type": "text"
      },
      "source": [
        "- [Worked example of Bayes rule calculation](https://en.wikipedia.org/wiki/Bayes'_theorem#Examples) (helpful as it fully breaks out the denominator)\n",
        "- [Source code for mvsdist in scipy](https://github.com/scipy/scipy/blob/90534919e139d2a81c24bf08341734ff41a3db12/scipy/stats/morestats.py#L139)"
      ]
    },
    {
      "cell_type": "markdown",
      "metadata": {
        "id": "GP7Jv1XvwtkX",
        "colab_type": "text"
      },
      "source": [
        "## Stretch Goals:\n",
        "\n",
        "- Go back and study the content from Modules 1 & 2 to make sure that you're really comfortable with them.\n",
        "- Apply a Bayesian technique to a problem you previously worked (in an assignment or project work) on from a frequentist (standard) perspective\n",
        "- Check out [PyMC3](https://docs.pymc.io/) (note this goes beyond hypothesis tests into modeling) - read the guides and work through some examples\n",
        "- Take PyMC3 further - see if you can build something with it!"
      ]
    },
    {
      "cell_type": "code",
      "metadata": {
        "id": "iDi0eFr1x-v_",
        "colab_type": "code",
        "colab": {}
      },
      "source": [
        ""
      ],
      "execution_count": 0,
      "outputs": []
    }
  ]
}